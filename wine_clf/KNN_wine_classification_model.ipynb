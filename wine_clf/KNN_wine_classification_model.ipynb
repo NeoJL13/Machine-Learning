{
  "nbformat": 4,
  "nbformat_minor": 0,
  "metadata": {
    "colab": {
      "provenance": []
    },
    "kernelspec": {
      "name": "python3",
      "display_name": "Python 3"
    },
    "language_info": {
      "name": "python"
    }
  },
  "cells": [
    {
      "cell_type": "markdown",
      "source": [
        "#KNN-WINE CLASSIFICATION MODEL"
      ],
      "metadata": {
        "id": "2_eVekgrU5fD"
      }
    },
    {
      "cell_type": "markdown",
      "source": [
        "##UPLOAD FILE & UNZIP FILE"
      ],
      "metadata": {
        "id": "pBznNVVWaJni"
      }
    },
    {
      "cell_type": "markdown",
      "source": [
        "###Upload file"
      ],
      "metadata": {
        "id": "04c8IjJnG7Kz"
      }
    },
    {
      "cell_type": "code",
      "source": [
        "from google.colab import files\n",
        "uploaded = files.upload()"
      ],
      "metadata": {
        "id": "J9yRaO_aBrFe",
        "colab": {
          "base_uri": "https://localhost:8080/",
          "height": 73
        },
        "outputId": "0adc60d9-f265-4e1d-b2b7-b7abbc1149b0"
      },
      "execution_count": null,
      "outputs": [
        {
          "output_type": "display_data",
          "data": {
            "text/plain": [
              "<IPython.core.display.HTML object>"
            ],
            "text/html": [
              "\n",
              "     <input type=\"file\" id=\"files-838bd5d0-9473-4b71-a69e-adf7062dfdad\" name=\"files[]\" multiple disabled\n",
              "        style=\"border:none\" />\n",
              "     <output id=\"result-838bd5d0-9473-4b71-a69e-adf7062dfdad\">\n",
              "      Upload widget is only available when the cell has been executed in the\n",
              "      current browser session. Please rerun this cell to enable.\n",
              "      </output>\n",
              "      <script>// Copyright 2017 Google LLC\n",
              "//\n",
              "// Licensed under the Apache License, Version 2.0 (the \"License\");\n",
              "// you may not use this file except in compliance with the License.\n",
              "// You may obtain a copy of the License at\n",
              "//\n",
              "//      http://www.apache.org/licenses/LICENSE-2.0\n",
              "//\n",
              "// Unless required by applicable law or agreed to in writing, software\n",
              "// distributed under the License is distributed on an \"AS IS\" BASIS,\n",
              "// WITHOUT WARRANTIES OR CONDITIONS OF ANY KIND, either express or implied.\n",
              "// See the License for the specific language governing permissions and\n",
              "// limitations under the License.\n",
              "\n",
              "/**\n",
              " * @fileoverview Helpers for google.colab Python module.\n",
              " */\n",
              "(function(scope) {\n",
              "function span(text, styleAttributes = {}) {\n",
              "  const element = document.createElement('span');\n",
              "  element.textContent = text;\n",
              "  for (const key of Object.keys(styleAttributes)) {\n",
              "    element.style[key] = styleAttributes[key];\n",
              "  }\n",
              "  return element;\n",
              "}\n",
              "\n",
              "// Max number of bytes which will be uploaded at a time.\n",
              "const MAX_PAYLOAD_SIZE = 100 * 1024;\n",
              "\n",
              "function _uploadFiles(inputId, outputId) {\n",
              "  const steps = uploadFilesStep(inputId, outputId);\n",
              "  const outputElement = document.getElementById(outputId);\n",
              "  // Cache steps on the outputElement to make it available for the next call\n",
              "  // to uploadFilesContinue from Python.\n",
              "  outputElement.steps = steps;\n",
              "\n",
              "  return _uploadFilesContinue(outputId);\n",
              "}\n",
              "\n",
              "// This is roughly an async generator (not supported in the browser yet),\n",
              "// where there are multiple asynchronous steps and the Python side is going\n",
              "// to poll for completion of each step.\n",
              "// This uses a Promise to block the python side on completion of each step,\n",
              "// then passes the result of the previous step as the input to the next step.\n",
              "function _uploadFilesContinue(outputId) {\n",
              "  const outputElement = document.getElementById(outputId);\n",
              "  const steps = outputElement.steps;\n",
              "\n",
              "  const next = steps.next(outputElement.lastPromiseValue);\n",
              "  return Promise.resolve(next.value.promise).then((value) => {\n",
              "    // Cache the last promise value to make it available to the next\n",
              "    // step of the generator.\n",
              "    outputElement.lastPromiseValue = value;\n",
              "    return next.value.response;\n",
              "  });\n",
              "}\n",
              "\n",
              "/**\n",
              " * Generator function which is called between each async step of the upload\n",
              " * process.\n",
              " * @param {string} inputId Element ID of the input file picker element.\n",
              " * @param {string} outputId Element ID of the output display.\n",
              " * @return {!Iterable<!Object>} Iterable of next steps.\n",
              " */\n",
              "function* uploadFilesStep(inputId, outputId) {\n",
              "  const inputElement = document.getElementById(inputId);\n",
              "  inputElement.disabled = false;\n",
              "\n",
              "  const outputElement = document.getElementById(outputId);\n",
              "  outputElement.innerHTML = '';\n",
              "\n",
              "  const pickedPromise = new Promise((resolve) => {\n",
              "    inputElement.addEventListener('change', (e) => {\n",
              "      resolve(e.target.files);\n",
              "    });\n",
              "  });\n",
              "\n",
              "  const cancel = document.createElement('button');\n",
              "  inputElement.parentElement.appendChild(cancel);\n",
              "  cancel.textContent = 'Cancel upload';\n",
              "  const cancelPromise = new Promise((resolve) => {\n",
              "    cancel.onclick = () => {\n",
              "      resolve(null);\n",
              "    };\n",
              "  });\n",
              "\n",
              "  // Wait for the user to pick the files.\n",
              "  const files = yield {\n",
              "    promise: Promise.race([pickedPromise, cancelPromise]),\n",
              "    response: {\n",
              "      action: 'starting',\n",
              "    }\n",
              "  };\n",
              "\n",
              "  cancel.remove();\n",
              "\n",
              "  // Disable the input element since further picks are not allowed.\n",
              "  inputElement.disabled = true;\n",
              "\n",
              "  if (!files) {\n",
              "    return {\n",
              "      response: {\n",
              "        action: 'complete',\n",
              "      }\n",
              "    };\n",
              "  }\n",
              "\n",
              "  for (const file of files) {\n",
              "    const li = document.createElement('li');\n",
              "    li.append(span(file.name, {fontWeight: 'bold'}));\n",
              "    li.append(span(\n",
              "        `(${file.type || 'n/a'}) - ${file.size} bytes, ` +\n",
              "        `last modified: ${\n",
              "            file.lastModifiedDate ? file.lastModifiedDate.toLocaleDateString() :\n",
              "                                    'n/a'} - `));\n",
              "    const percent = span('0% done');\n",
              "    li.appendChild(percent);\n",
              "\n",
              "    outputElement.appendChild(li);\n",
              "\n",
              "    const fileDataPromise = new Promise((resolve) => {\n",
              "      const reader = new FileReader();\n",
              "      reader.onload = (e) => {\n",
              "        resolve(e.target.result);\n",
              "      };\n",
              "      reader.readAsArrayBuffer(file);\n",
              "    });\n",
              "    // Wait for the data to be ready.\n",
              "    let fileData = yield {\n",
              "      promise: fileDataPromise,\n",
              "      response: {\n",
              "        action: 'continue',\n",
              "      }\n",
              "    };\n",
              "\n",
              "    // Use a chunked sending to avoid message size limits. See b/62115660.\n",
              "    let position = 0;\n",
              "    do {\n",
              "      const length = Math.min(fileData.byteLength - position, MAX_PAYLOAD_SIZE);\n",
              "      const chunk = new Uint8Array(fileData, position, length);\n",
              "      position += length;\n",
              "\n",
              "      const base64 = btoa(String.fromCharCode.apply(null, chunk));\n",
              "      yield {\n",
              "        response: {\n",
              "          action: 'append',\n",
              "          file: file.name,\n",
              "          data: base64,\n",
              "        },\n",
              "      };\n",
              "\n",
              "      let percentDone = fileData.byteLength === 0 ?\n",
              "          100 :\n",
              "          Math.round((position / fileData.byteLength) * 100);\n",
              "      percent.textContent = `${percentDone}% done`;\n",
              "\n",
              "    } while (position < fileData.byteLength);\n",
              "  }\n",
              "\n",
              "  // All done.\n",
              "  yield {\n",
              "    response: {\n",
              "      action: 'complete',\n",
              "    }\n",
              "  };\n",
              "}\n",
              "\n",
              "scope.google = scope.google || {};\n",
              "scope.google.colab = scope.google.colab || {};\n",
              "scope.google.colab._files = {\n",
              "  _uploadFiles,\n",
              "  _uploadFilesContinue,\n",
              "};\n",
              "})(self);\n",
              "</script> "
            ]
          },
          "metadata": {}
        },
        {
          "output_type": "stream",
          "name": "stdout",
          "text": [
            "Saving 9408623-b237fa5848349a14a14e5d4107dc7897c21951f5.zip to 9408623-b237fa5848349a14a14e5d4107dc7897c21951f5.zip\n"
          ]
        }
      ]
    },
    {
      "cell_type": "markdown",
      "source": [
        "###Unzip file"
      ],
      "metadata": {
        "id": "kw9Z5XpEHAnI"
      }
    },
    {
      "cell_type": "code",
      "source": [
        "import zipfile\n",
        "with zipfile.ZipFile('/content/9408623-b237fa5848349a14a14e5d4107dc7897c21951f5.zip', 'r') as zip_ref:\n",
        "    zip_ref.extractall('.')"
      ],
      "metadata": {
        "id": "yaFtwX-yGwCi"
      },
      "execution_count": null,
      "outputs": []
    },
    {
      "cell_type": "markdown",
      "source": [
        "##1. CHUẨN BỊ DỮ LIỆU"
      ],
      "metadata": {
        "id": "QUDYzNMxI2Tu"
      }
    },
    {
      "cell_type": "markdown",
      "source": [
        "###Import thư viện cần thiết"
      ],
      "metadata": {
        "id": "Wt9AhD45G06q"
      }
    },
    {
      "cell_type": "code",
      "execution_count": null,
      "metadata": {
        "id": "JC3CtldrAAt2"
      },
      "outputs": [],
      "source": [
        "import numpy as np\n",
        "import pandas as pd\n",
        "import matplotlib.pyplot as plt\n",
        "from sklearn.preprocessing import StandardScaler\n",
        "from sklearn.decomposition import PCA\n",
        "from sklearn.neighbors import KNeighborsClassifier\n",
        "from sklearn.model_selection import train_test_split\n",
        "from sklearn import metrics"
      ]
    },
    {
      "cell_type": "markdown",
      "source": [
        "###Đọc file csv"
      ],
      "metadata": {
        "id": "LA-lO9iJLaOX"
      }
    },
    {
      "cell_type": "code",
      "source": [
        "#đọc dữ liệu với pandas\n",
        "path = '/content/9408623-b237fa5848349a14a14e5d4107dc7897c21951f5/wine.csv'\n",
        "df = pd.read_csv(path)\n",
        "df"
      ],
      "metadata": {
        "colab": {
          "base_uri": "https://localhost:8080/",
          "height": 423
        },
        "id": "-4uP_jouHN67",
        "outputId": "7b26c766-6aa3-40d2-d514-b5fa948d0ebe"
      },
      "execution_count": null,
      "outputs": [
        {
          "output_type": "execute_result",
          "data": {
            "text/plain": [
              "     Wine  Alcohol  Malic.acid   Ash   Acl   Mg  Phenols  Flavanoids  \\\n",
              "0       1    14.23        1.71  2.43  15.6  127     2.80        3.06   \n",
              "1       1    13.20        1.78  2.14  11.2  100     2.65        2.76   \n",
              "2       1    13.16        2.36  2.67  18.6  101     2.80        3.24   \n",
              "3       1    14.37        1.95  2.50  16.8  113     3.85        3.49   \n",
              "4       1    13.24        2.59  2.87  21.0  118     2.80        2.69   \n",
              "..    ...      ...         ...   ...   ...  ...      ...         ...   \n",
              "173     3    13.71        5.65  2.45  20.5   95     1.68        0.61   \n",
              "174     3    13.40        3.91  2.48  23.0  102     1.80        0.75   \n",
              "175     3    13.27        4.28  2.26  20.0  120     1.59        0.69   \n",
              "176     3    13.17        2.59  2.37  20.0  120     1.65        0.68   \n",
              "177     3    14.13        4.10  2.74  24.5   96     2.05        0.76   \n",
              "\n",
              "     Nonflavanoid.phenols  Proanth  Color.int   Hue    OD  Proline  \n",
              "0                    0.28     2.29       5.64  1.04  3.92     1065  \n",
              "1                    0.26     1.28       4.38  1.05  3.40     1050  \n",
              "2                    0.30     2.81       5.68  1.03  3.17     1185  \n",
              "3                    0.24     2.18       7.80  0.86  3.45     1480  \n",
              "4                    0.39     1.82       4.32  1.04  2.93      735  \n",
              "..                    ...      ...        ...   ...   ...      ...  \n",
              "173                  0.52     1.06       7.70  0.64  1.74      740  \n",
              "174                  0.43     1.41       7.30  0.70  1.56      750  \n",
              "175                  0.43     1.35      10.20  0.59  1.56      835  \n",
              "176                  0.53     1.46       9.30  0.60  1.62      840  \n",
              "177                  0.56     1.35       9.20  0.61  1.60      560  \n",
              "\n",
              "[178 rows x 14 columns]"
            ],
            "text/html": [
              "\n",
              "  <div id=\"df-2751658a-4bd7-44d5-a7eb-b43d67c80c6c\" class=\"colab-df-container\">\n",
              "    <div>\n",
              "<style scoped>\n",
              "    .dataframe tbody tr th:only-of-type {\n",
              "        vertical-align: middle;\n",
              "    }\n",
              "\n",
              "    .dataframe tbody tr th {\n",
              "        vertical-align: top;\n",
              "    }\n",
              "\n",
              "    .dataframe thead th {\n",
              "        text-align: right;\n",
              "    }\n",
              "</style>\n",
              "<table border=\"1\" class=\"dataframe\">\n",
              "  <thead>\n",
              "    <tr style=\"text-align: right;\">\n",
              "      <th></th>\n",
              "      <th>Wine</th>\n",
              "      <th>Alcohol</th>\n",
              "      <th>Malic.acid</th>\n",
              "      <th>Ash</th>\n",
              "      <th>Acl</th>\n",
              "      <th>Mg</th>\n",
              "      <th>Phenols</th>\n",
              "      <th>Flavanoids</th>\n",
              "      <th>Nonflavanoid.phenols</th>\n",
              "      <th>Proanth</th>\n",
              "      <th>Color.int</th>\n",
              "      <th>Hue</th>\n",
              "      <th>OD</th>\n",
              "      <th>Proline</th>\n",
              "    </tr>\n",
              "  </thead>\n",
              "  <tbody>\n",
              "    <tr>\n",
              "      <th>0</th>\n",
              "      <td>1</td>\n",
              "      <td>14.23</td>\n",
              "      <td>1.71</td>\n",
              "      <td>2.43</td>\n",
              "      <td>15.6</td>\n",
              "      <td>127</td>\n",
              "      <td>2.80</td>\n",
              "      <td>3.06</td>\n",
              "      <td>0.28</td>\n",
              "      <td>2.29</td>\n",
              "      <td>5.64</td>\n",
              "      <td>1.04</td>\n",
              "      <td>3.92</td>\n",
              "      <td>1065</td>\n",
              "    </tr>\n",
              "    <tr>\n",
              "      <th>1</th>\n",
              "      <td>1</td>\n",
              "      <td>13.20</td>\n",
              "      <td>1.78</td>\n",
              "      <td>2.14</td>\n",
              "      <td>11.2</td>\n",
              "      <td>100</td>\n",
              "      <td>2.65</td>\n",
              "      <td>2.76</td>\n",
              "      <td>0.26</td>\n",
              "      <td>1.28</td>\n",
              "      <td>4.38</td>\n",
              "      <td>1.05</td>\n",
              "      <td>3.40</td>\n",
              "      <td>1050</td>\n",
              "    </tr>\n",
              "    <tr>\n",
              "      <th>2</th>\n",
              "      <td>1</td>\n",
              "      <td>13.16</td>\n",
              "      <td>2.36</td>\n",
              "      <td>2.67</td>\n",
              "      <td>18.6</td>\n",
              "      <td>101</td>\n",
              "      <td>2.80</td>\n",
              "      <td>3.24</td>\n",
              "      <td>0.30</td>\n",
              "      <td>2.81</td>\n",
              "      <td>5.68</td>\n",
              "      <td>1.03</td>\n",
              "      <td>3.17</td>\n",
              "      <td>1185</td>\n",
              "    </tr>\n",
              "    <tr>\n",
              "      <th>3</th>\n",
              "      <td>1</td>\n",
              "      <td>14.37</td>\n",
              "      <td>1.95</td>\n",
              "      <td>2.50</td>\n",
              "      <td>16.8</td>\n",
              "      <td>113</td>\n",
              "      <td>3.85</td>\n",
              "      <td>3.49</td>\n",
              "      <td>0.24</td>\n",
              "      <td>2.18</td>\n",
              "      <td>7.80</td>\n",
              "      <td>0.86</td>\n",
              "      <td>3.45</td>\n",
              "      <td>1480</td>\n",
              "    </tr>\n",
              "    <tr>\n",
              "      <th>4</th>\n",
              "      <td>1</td>\n",
              "      <td>13.24</td>\n",
              "      <td>2.59</td>\n",
              "      <td>2.87</td>\n",
              "      <td>21.0</td>\n",
              "      <td>118</td>\n",
              "      <td>2.80</td>\n",
              "      <td>2.69</td>\n",
              "      <td>0.39</td>\n",
              "      <td>1.82</td>\n",
              "      <td>4.32</td>\n",
              "      <td>1.04</td>\n",
              "      <td>2.93</td>\n",
              "      <td>735</td>\n",
              "    </tr>\n",
              "    <tr>\n",
              "      <th>...</th>\n",
              "      <td>...</td>\n",
              "      <td>...</td>\n",
              "      <td>...</td>\n",
              "      <td>...</td>\n",
              "      <td>...</td>\n",
              "      <td>...</td>\n",
              "      <td>...</td>\n",
              "      <td>...</td>\n",
              "      <td>...</td>\n",
              "      <td>...</td>\n",
              "      <td>...</td>\n",
              "      <td>...</td>\n",
              "      <td>...</td>\n",
              "      <td>...</td>\n",
              "    </tr>\n",
              "    <tr>\n",
              "      <th>173</th>\n",
              "      <td>3</td>\n",
              "      <td>13.71</td>\n",
              "      <td>5.65</td>\n",
              "      <td>2.45</td>\n",
              "      <td>20.5</td>\n",
              "      <td>95</td>\n",
              "      <td>1.68</td>\n",
              "      <td>0.61</td>\n",
              "      <td>0.52</td>\n",
              "      <td>1.06</td>\n",
              "      <td>7.70</td>\n",
              "      <td>0.64</td>\n",
              "      <td>1.74</td>\n",
              "      <td>740</td>\n",
              "    </tr>\n",
              "    <tr>\n",
              "      <th>174</th>\n",
              "      <td>3</td>\n",
              "      <td>13.40</td>\n",
              "      <td>3.91</td>\n",
              "      <td>2.48</td>\n",
              "      <td>23.0</td>\n",
              "      <td>102</td>\n",
              "      <td>1.80</td>\n",
              "      <td>0.75</td>\n",
              "      <td>0.43</td>\n",
              "      <td>1.41</td>\n",
              "      <td>7.30</td>\n",
              "      <td>0.70</td>\n",
              "      <td>1.56</td>\n",
              "      <td>750</td>\n",
              "    </tr>\n",
              "    <tr>\n",
              "      <th>175</th>\n",
              "      <td>3</td>\n",
              "      <td>13.27</td>\n",
              "      <td>4.28</td>\n",
              "      <td>2.26</td>\n",
              "      <td>20.0</td>\n",
              "      <td>120</td>\n",
              "      <td>1.59</td>\n",
              "      <td>0.69</td>\n",
              "      <td>0.43</td>\n",
              "      <td>1.35</td>\n",
              "      <td>10.20</td>\n",
              "      <td>0.59</td>\n",
              "      <td>1.56</td>\n",
              "      <td>835</td>\n",
              "    </tr>\n",
              "    <tr>\n",
              "      <th>176</th>\n",
              "      <td>3</td>\n",
              "      <td>13.17</td>\n",
              "      <td>2.59</td>\n",
              "      <td>2.37</td>\n",
              "      <td>20.0</td>\n",
              "      <td>120</td>\n",
              "      <td>1.65</td>\n",
              "      <td>0.68</td>\n",
              "      <td>0.53</td>\n",
              "      <td>1.46</td>\n",
              "      <td>9.30</td>\n",
              "      <td>0.60</td>\n",
              "      <td>1.62</td>\n",
              "      <td>840</td>\n",
              "    </tr>\n",
              "    <tr>\n",
              "      <th>177</th>\n",
              "      <td>3</td>\n",
              "      <td>14.13</td>\n",
              "      <td>4.10</td>\n",
              "      <td>2.74</td>\n",
              "      <td>24.5</td>\n",
              "      <td>96</td>\n",
              "      <td>2.05</td>\n",
              "      <td>0.76</td>\n",
              "      <td>0.56</td>\n",
              "      <td>1.35</td>\n",
              "      <td>9.20</td>\n",
              "      <td>0.61</td>\n",
              "      <td>1.60</td>\n",
              "      <td>560</td>\n",
              "    </tr>\n",
              "  </tbody>\n",
              "</table>\n",
              "<p>178 rows × 14 columns</p>\n",
              "</div>\n",
              "    <div class=\"colab-df-buttons\">\n",
              "\n",
              "  <div class=\"colab-df-container\">\n",
              "    <button class=\"colab-df-convert\" onclick=\"convertToInteractive('df-2751658a-4bd7-44d5-a7eb-b43d67c80c6c')\"\n",
              "            title=\"Convert this dataframe to an interactive table.\"\n",
              "            style=\"display:none;\">\n",
              "\n",
              "  <svg xmlns=\"http://www.w3.org/2000/svg\" height=\"24px\" viewBox=\"0 -960 960 960\">\n",
              "    <path d=\"M120-120v-720h720v720H120Zm60-500h600v-160H180v160Zm220 220h160v-160H400v160Zm0 220h160v-160H400v160ZM180-400h160v-160H180v160Zm440 0h160v-160H620v160ZM180-180h160v-160H180v160Zm440 0h160v-160H620v160Z\"/>\n",
              "  </svg>\n",
              "    </button>\n",
              "\n",
              "  <style>\n",
              "    .colab-df-container {\n",
              "      display:flex;\n",
              "      gap: 12px;\n",
              "    }\n",
              "\n",
              "    .colab-df-convert {\n",
              "      background-color: #E8F0FE;\n",
              "      border: none;\n",
              "      border-radius: 50%;\n",
              "      cursor: pointer;\n",
              "      display: none;\n",
              "      fill: #1967D2;\n",
              "      height: 32px;\n",
              "      padding: 0 0 0 0;\n",
              "      width: 32px;\n",
              "    }\n",
              "\n",
              "    .colab-df-convert:hover {\n",
              "      background-color: #E2EBFA;\n",
              "      box-shadow: 0px 1px 2px rgba(60, 64, 67, 0.3), 0px 1px 3px 1px rgba(60, 64, 67, 0.15);\n",
              "      fill: #174EA6;\n",
              "    }\n",
              "\n",
              "    .colab-df-buttons div {\n",
              "      margin-bottom: 4px;\n",
              "    }\n",
              "\n",
              "    [theme=dark] .colab-df-convert {\n",
              "      background-color: #3B4455;\n",
              "      fill: #D2E3FC;\n",
              "    }\n",
              "\n",
              "    [theme=dark] .colab-df-convert:hover {\n",
              "      background-color: #434B5C;\n",
              "      box-shadow: 0px 1px 3px 1px rgba(0, 0, 0, 0.15);\n",
              "      filter: drop-shadow(0px 1px 2px rgba(0, 0, 0, 0.3));\n",
              "      fill: #FFFFFF;\n",
              "    }\n",
              "  </style>\n",
              "\n",
              "    <script>\n",
              "      const buttonEl =\n",
              "        document.querySelector('#df-2751658a-4bd7-44d5-a7eb-b43d67c80c6c button.colab-df-convert');\n",
              "      buttonEl.style.display =\n",
              "        google.colab.kernel.accessAllowed ? 'block' : 'none';\n",
              "\n",
              "      async function convertToInteractive(key) {\n",
              "        const element = document.querySelector('#df-2751658a-4bd7-44d5-a7eb-b43d67c80c6c');\n",
              "        const dataTable =\n",
              "          await google.colab.kernel.invokeFunction('convertToInteractive',\n",
              "                                                    [key], {});\n",
              "        if (!dataTable) return;\n",
              "\n",
              "        const docLinkHtml = 'Like what you see? Visit the ' +\n",
              "          '<a target=\"_blank\" href=https://colab.research.google.com/notebooks/data_table.ipynb>data table notebook</a>'\n",
              "          + ' to learn more about interactive tables.';\n",
              "        element.innerHTML = '';\n",
              "        dataTable['output_type'] = 'display_data';\n",
              "        await google.colab.output.renderOutput(dataTable, element);\n",
              "        const docLink = document.createElement('div');\n",
              "        docLink.innerHTML = docLinkHtml;\n",
              "        element.appendChild(docLink);\n",
              "      }\n",
              "    </script>\n",
              "  </div>\n",
              "\n",
              "\n",
              "<div id=\"df-c7a6a76e-0060-4303-9d70-f41f07ac2314\">\n",
              "  <button class=\"colab-df-quickchart\" onclick=\"quickchart('df-c7a6a76e-0060-4303-9d70-f41f07ac2314')\"\n",
              "            title=\"Suggest charts\"\n",
              "            style=\"display:none;\">\n",
              "\n",
              "<svg xmlns=\"http://www.w3.org/2000/svg\" height=\"24px\"viewBox=\"0 0 24 24\"\n",
              "     width=\"24px\">\n",
              "    <g>\n",
              "        <path d=\"M19 3H5c-1.1 0-2 .9-2 2v14c0 1.1.9 2 2 2h14c1.1 0 2-.9 2-2V5c0-1.1-.9-2-2-2zM9 17H7v-7h2v7zm4 0h-2V7h2v10zm4 0h-2v-4h2v4z\"/>\n",
              "    </g>\n",
              "</svg>\n",
              "  </button>\n",
              "\n",
              "<style>\n",
              "  .colab-df-quickchart {\n",
              "      --bg-color: #E8F0FE;\n",
              "      --fill-color: #1967D2;\n",
              "      --hover-bg-color: #E2EBFA;\n",
              "      --hover-fill-color: #174EA6;\n",
              "      --disabled-fill-color: #AAA;\n",
              "      --disabled-bg-color: #DDD;\n",
              "  }\n",
              "\n",
              "  [theme=dark] .colab-df-quickchart {\n",
              "      --bg-color: #3B4455;\n",
              "      --fill-color: #D2E3FC;\n",
              "      --hover-bg-color: #434B5C;\n",
              "      --hover-fill-color: #FFFFFF;\n",
              "      --disabled-bg-color: #3B4455;\n",
              "      --disabled-fill-color: #666;\n",
              "  }\n",
              "\n",
              "  .colab-df-quickchart {\n",
              "    background-color: var(--bg-color);\n",
              "    border: none;\n",
              "    border-radius: 50%;\n",
              "    cursor: pointer;\n",
              "    display: none;\n",
              "    fill: var(--fill-color);\n",
              "    height: 32px;\n",
              "    padding: 0;\n",
              "    width: 32px;\n",
              "  }\n",
              "\n",
              "  .colab-df-quickchart:hover {\n",
              "    background-color: var(--hover-bg-color);\n",
              "    box-shadow: 0 1px 2px rgba(60, 64, 67, 0.3), 0 1px 3px 1px rgba(60, 64, 67, 0.15);\n",
              "    fill: var(--button-hover-fill-color);\n",
              "  }\n",
              "\n",
              "  .colab-df-quickchart-complete:disabled,\n",
              "  .colab-df-quickchart-complete:disabled:hover {\n",
              "    background-color: var(--disabled-bg-color);\n",
              "    fill: var(--disabled-fill-color);\n",
              "    box-shadow: none;\n",
              "  }\n",
              "\n",
              "  .colab-df-spinner {\n",
              "    border: 2px solid var(--fill-color);\n",
              "    border-color: transparent;\n",
              "    border-bottom-color: var(--fill-color);\n",
              "    animation:\n",
              "      spin 1s steps(1) infinite;\n",
              "  }\n",
              "\n",
              "  @keyframes spin {\n",
              "    0% {\n",
              "      border-color: transparent;\n",
              "      border-bottom-color: var(--fill-color);\n",
              "      border-left-color: var(--fill-color);\n",
              "    }\n",
              "    20% {\n",
              "      border-color: transparent;\n",
              "      border-left-color: var(--fill-color);\n",
              "      border-top-color: var(--fill-color);\n",
              "    }\n",
              "    30% {\n",
              "      border-color: transparent;\n",
              "      border-left-color: var(--fill-color);\n",
              "      border-top-color: var(--fill-color);\n",
              "      border-right-color: var(--fill-color);\n",
              "    }\n",
              "    40% {\n",
              "      border-color: transparent;\n",
              "      border-right-color: var(--fill-color);\n",
              "      border-top-color: var(--fill-color);\n",
              "    }\n",
              "    60% {\n",
              "      border-color: transparent;\n",
              "      border-right-color: var(--fill-color);\n",
              "    }\n",
              "    80% {\n",
              "      border-color: transparent;\n",
              "      border-right-color: var(--fill-color);\n",
              "      border-bottom-color: var(--fill-color);\n",
              "    }\n",
              "    90% {\n",
              "      border-color: transparent;\n",
              "      border-bottom-color: var(--fill-color);\n",
              "    }\n",
              "  }\n",
              "</style>\n",
              "\n",
              "  <script>\n",
              "    async function quickchart(key) {\n",
              "      const quickchartButtonEl =\n",
              "        document.querySelector('#' + key + ' button');\n",
              "      quickchartButtonEl.disabled = true;  // To prevent multiple clicks.\n",
              "      quickchartButtonEl.classList.add('colab-df-spinner');\n",
              "      try {\n",
              "        const charts = await google.colab.kernel.invokeFunction(\n",
              "            'suggestCharts', [key], {});\n",
              "      } catch (error) {\n",
              "        console.error('Error during call to suggestCharts:', error);\n",
              "      }\n",
              "      quickchartButtonEl.classList.remove('colab-df-spinner');\n",
              "      quickchartButtonEl.classList.add('colab-df-quickchart-complete');\n",
              "    }\n",
              "    (() => {\n",
              "      let quickchartButtonEl =\n",
              "        document.querySelector('#df-c7a6a76e-0060-4303-9d70-f41f07ac2314 button');\n",
              "      quickchartButtonEl.style.display =\n",
              "        google.colab.kernel.accessAllowed ? 'block' : 'none';\n",
              "    })();\n",
              "  </script>\n",
              "</div>\n",
              "    </div>\n",
              "  </div>\n"
            ]
          },
          "metadata": {},
          "execution_count": 5
        }
      ]
    },
    {
      "cell_type": "markdown",
      "source": [
        "###Xem các thành phần có trong dataset"
      ],
      "metadata": {
        "id": "cxj3mfPUHQjj"
      }
    },
    {
      "cell_type": "code",
      "source": [
        "# các thành phần đánh giá\n",
        "print(\"have\", df.columns.size, \" features\")\n",
        "print(df.columns)"
      ],
      "metadata": {
        "colab": {
          "base_uri": "https://localhost:8080/"
        },
        "id": "YxAwDI-5H2DA",
        "outputId": "b6ecd6cc-1675-42cf-d164-19e42b48f5e8"
      },
      "execution_count": null,
      "outputs": [
        {
          "output_type": "stream",
          "name": "stdout",
          "text": [
            "have 14  features\n",
            "Index(['Wine', 'Alcohol', 'Malic.acid', 'Ash', 'Acl', 'Mg', 'Phenols',\n",
            "       'Flavanoids', 'Nonflavanoid.phenols', 'Proanth', 'Color.int', 'Hue',\n",
            "       'OD', 'Proline'],\n",
            "      dtype='object')\n"
          ]
        }
      ]
    },
    {
      "cell_type": "markdown",
      "source": [
        "##Kiểm tra giá trị null có tồn tại?"
      ],
      "metadata": {
        "id": "1O4dNDMoHDZu"
      }
    },
    {
      "cell_type": "code",
      "source": [
        "df.isnull().sum()"
      ],
      "metadata": {
        "colab": {
          "base_uri": "https://localhost:8080/"
        },
        "id": "NPvaF2uoG_4x",
        "outputId": "78ddd94f-db73-44ab-b576-08663870e8a1"
      },
      "execution_count": null,
      "outputs": [
        {
          "output_type": "execute_result",
          "data": {
            "text/plain": [
              "Wine                    0\n",
              "Alcohol                 0\n",
              "Malic.acid              0\n",
              "Ash                     0\n",
              "Acl                     0\n",
              "Mg                      0\n",
              "Phenols                 0\n",
              "Flavanoids              0\n",
              "Nonflavanoid.phenols    0\n",
              "Proanth                 0\n",
              "Color.int               0\n",
              "Hue                     0\n",
              "OD                      0\n",
              "Proline                 0\n",
              "dtype: int64"
            ]
          },
          "metadata": {},
          "execution_count": 7
        }
      ]
    },
    {
      "cell_type": "markdown",
      "source": [
        "###Phân tích giá trị min, max, mean"
      ],
      "metadata": {
        "id": "4Ctrw5FbHa3e"
      }
    },
    {
      "cell_type": "code",
      "source": [
        "# Nhóm các dòng theo giá trị của cột Wine và tính toán giá trị min và max cho từng nhóm\n",
        "grouped = df.groupby('Wine')\n",
        "for wine, group in grouped:\n",
        "    print(f\"Wine {wine}:\")\n",
        "    print(f\"  Alcohol: min={group['Alcohol'].min()}, max={group['Alcohol'].max()}\")\n",
        "    print(f\"  Malic.acid: min={group['Malic.acid'].min()}, max={group['Malic.acid'].max()}\")\n",
        "    print(f\"  Ash: min={group['Ash'].min()}, max={group['Ash'].max()}\")\n",
        "    print(f\"  Acl: min={group['Acl'].min()}, max={group['Acl'].max()}\")\n",
        "    print(f\"  Mg: min={group['Mg'].min()}, max={group['Mg'].max()}\")\n",
        "    print(f\"  Phenols: min={group['Phenols'].min()}, max={group['Phenols'].max()}\")\n",
        "    print(f\"  Flavanoids: min={group['Flavanoids'].min()}, max={group['Flavanoids'].max()}\")\n",
        "    print(f\"  Nonflavanoid.phenols: min={group['Nonflavanoid.phenols'].min()}, max={group['Nonflavanoid.phenols'].max()}\")\n",
        "    print(f\"  Proanth: min={group['Proanth'].min()}, max={group['Proanth'].max()}\")\n",
        "    print(f\"  Color.int: min={group['Color.int'].min()}, max={group['Color.int'].max()}\")\n",
        "    print(f\"  Hue: min={group['Hue'].min()}, max={group['Hue'].max()}\")\n",
        "    print(f\"  OD: min={group['OD'].min()}, max={group['OD'].max()}\")\n",
        "    print(f\"  Proline: min={group['Proline'].min()}, max={group['Proline'].max()}\")\n",
        "# Gía trị trung bing từng cột features\n",
        "df.mean()"
      ],
      "metadata": {
        "colab": {
          "base_uri": "https://localhost:8080/"
        },
        "id": "pNaUkelKS2_R",
        "outputId": "3ccab492-12d2-4e94-f09a-4e1f8436b0af"
      },
      "execution_count": null,
      "outputs": [
        {
          "output_type": "stream",
          "name": "stdout",
          "text": [
            "Wine 1:\n",
            "  Alcohol: min=12.85, max=14.83\n",
            "  Malic.acid: min=1.35, max=4.04\n",
            "  Ash: min=2.04, max=3.22\n",
            "  Acl: min=11.2, max=25.0\n",
            "  Mg: min=89, max=132\n",
            "  Phenols: min=2.2, max=3.88\n",
            "  Flavanoids: min=2.19, max=3.93\n",
            "  Nonflavanoid.phenols: min=0.17, max=0.5\n",
            "  Proanth: min=1.25, max=2.96\n",
            "  Color.int: min=3.52, max=8.9\n",
            "  Hue: min=0.82, max=1.28\n",
            "  OD: min=2.51, max=4.0\n",
            "  Proline: min=680, max=1680\n",
            "Wine 2:\n",
            "  Alcohol: min=11.03, max=13.86\n",
            "  Malic.acid: min=0.74, max=5.8\n",
            "  Ash: min=1.36, max=3.23\n",
            "  Acl: min=10.6, max=30.0\n",
            "  Mg: min=70, max=162\n",
            "  Phenols: min=1.1, max=3.52\n",
            "  Flavanoids: min=0.57, max=5.08\n",
            "  Nonflavanoid.phenols: min=0.13, max=0.66\n",
            "  Proanth: min=0.41, max=3.58\n",
            "  Color.int: min=1.28, max=6.0\n",
            "  Hue: min=0.69, max=1.71\n",
            "  OD: min=1.59, max=3.69\n",
            "  Proline: min=278, max=985\n",
            "Wine 3:\n",
            "  Alcohol: min=12.2, max=14.34\n",
            "  Malic.acid: min=1.24, max=5.65\n",
            "  Ash: min=2.1, max=2.86\n",
            "  Acl: min=17.5, max=27.0\n",
            "  Mg: min=80, max=123\n",
            "  Phenols: min=0.98, max=2.8\n",
            "  Flavanoids: min=0.34, max=1.57\n",
            "  Nonflavanoid.phenols: min=0.17, max=0.63\n",
            "  Proanth: min=0.55, max=2.7\n",
            "  Color.int: min=3.85, max=13.0\n",
            "  Hue: min=0.48, max=0.96\n",
            "  OD: min=1.27, max=2.47\n",
            "  Proline: min=415, max=880\n"
          ]
        },
        {
          "output_type": "execute_result",
          "data": {
            "text/plain": [
              "Wine                      1.938202\n",
              "Alcohol                  13.000618\n",
              "Malic.acid                2.336348\n",
              "Ash                       2.366517\n",
              "Acl                      19.494944\n",
              "Mg                       99.741573\n",
              "Phenols                   2.295112\n",
              "Flavanoids                2.029270\n",
              "Nonflavanoid.phenols      0.361854\n",
              "Proanth                   1.590899\n",
              "Color.int                 5.058090\n",
              "Hue                       0.957449\n",
              "OD                        2.611685\n",
              "Proline                 746.893258\n",
              "dtype: float64"
            ]
          },
          "metadata": {},
          "execution_count": 8
        }
      ]
    },
    {
      "cell_type": "markdown",
      "source": [
        "###Xác định số label trong cột Wine"
      ],
      "metadata": {
        "id": "CaK6f2EyIkZW"
      }
    },
    {
      "cell_type": "code",
      "source": [
        "unique_items = set(df['Wine']) # tạo ra một tập hợp mới chứa các phần tử duy nhất\n",
        "num_unique_items = len(unique_items) # đếm số lượng nhãn trong tập hợp mới\n",
        "print(num_unique_items, \"label\") # 1,2,3"
      ],
      "metadata": {
        "colab": {
          "base_uri": "https://localhost:8080/"
        },
        "id": "yce8NVAvLlqr",
        "outputId": "48ff7279-669c-4f0b-dfcd-3b5c7735fa23"
      },
      "execution_count": null,
      "outputs": [
        {
          "output_type": "stream",
          "name": "stdout",
          "text": [
            "3 label\n"
          ]
        }
      ]
    },
    {
      "cell_type": "markdown",
      "source": [
        "###Đọc dữ liệu trên biểu đồ Boxplot"
      ],
      "metadata": {
        "id": "LjBaGlN8HlOg"
      }
    },
    {
      "cell_type": "code",
      "source": [
        "# Tạo Box plot\n",
        "fig, axs = plt.subplots(nrows=13, ncols=1, figsize=(10, 20))\n",
        "\n",
        "for i, col in enumerate(df.columns[1:]):\n",
        "    axs[i].boxplot([df.loc[df['Wine'] == 1, col],\n",
        "                    df.loc[df['Wine'] == 2, col],\n",
        "                    df.loc[df['Wine'] == 3, col]])\n",
        "    axs[i].set_title(col)\n",
        "    axs[i].set_xticklabels(['1', '2', '3'])\n",
        "\n",
        "# Hiển thị biểu đồ\n",
        "plt.tight_layout()\n",
        "plt.show()"
      ],
      "metadata": {
        "colab": {
          "base_uri": "https://localhost:8080/",
          "height": 1000
        },
        "id": "pnNZ4iA4gB0C",
        "outputId": "ef31be7f-dd75-433c-f6f6-33b234fccff9"
      },
      "execution_count": null,
      "outputs": [
        {
          "output_type": "display_data",
          "data": {
            "text/plain": [
              "<Figure size 1000x2000 with 13 Axes>"
            ],
            "image/png": "[encoded data removed]"
          },
          "metadata": {}
        }
      ]
    },
    {
      "cell_type": "markdown",
      "source": [
        "##2. TIỀN XỬ LÝ DỮ LIỆU"
      ],
      "metadata": {
        "id": "sHG5EuGwIxbg"
      }
    },
    {
      "cell_type": "markdown",
      "source": [
        "###Không cần phải làm sạch do bộ dữ liệu không có giá trị ngoại lai."
      ],
      "metadata": {
        "id": "fBsONBSORB6c"
      }
    },
    {
      "cell_type": "code",
      "source": [
        "df.info()"
      ],
      "metadata": {
        "colab": {
          "base_uri": "https://localhost:8080/"
        },
        "id": "SzZRVx2uRQVg",
        "outputId": "9178434a-8b6d-484c-d971-aa8543fe48e9"
      },
      "execution_count": null,
      "outputs": [
        {
          "output_type": "stream",
          "name": "stdout",
          "text": [
            "<class 'pandas.core.frame.DataFrame'>\n",
            "RangeIndex: 178 entries, 0 to 177\n",
            "Data columns (total 14 columns):\n",
            " #   Column                Non-Null Count  Dtype  \n",
            "---  ------                --------------  -----  \n",
            " 0   Wine                  178 non-null    int64  \n",
            " 1   Alcohol               178 non-null    float64\n",
            " 2   Malic.acid            178 non-null    float64\n",
            " 3   Ash                   178 non-null    float64\n",
            " 4   Acl                   178 non-null    float64\n",
            " 5   Mg                    178 non-null    int64  \n",
            " 6   Phenols               178 non-null    float64\n",
            " 7   Flavanoids            178 non-null    float64\n",
            " 8   Nonflavanoid.phenols  178 non-null    float64\n",
            " 9   Proanth               178 non-null    float64\n",
            " 10  Color.int             178 non-null    float64\n",
            " 11  Hue                   178 non-null    float64\n",
            " 12  OD                    178 non-null    float64\n",
            " 13  Proline               178 non-null    int64  \n",
            "dtypes: float64(11), int64(3)\n",
            "memory usage: 19.6 KB\n"
          ]
        }
      ]
    },
    {
      "cell_type": "markdown",
      "source": [
        "##3. Thực hiện chương trình"
      ],
      "metadata": {
        "id": "e83hTzl2RuoQ"
      }
    },
    {
      "cell_type": "markdown",
      "source": [
        "###Trích chọn đặc trưng để phân loại"
      ],
      "metadata": {
        "id": "d1wMX_oyH3kY"
      }
    },
    {
      "cell_type": "code",
      "source": [
        "# trích chọn đặc trưng để phân loại\n",
        "X = df[['Alcohol', 'Malic.acid', 'Ash', 'Acl', 'Mg', 'Phenols',\n",
        "       'Flavanoids', 'Nonflavanoid.phenols', 'Proanth', 'Color.int', 'Hue',\n",
        "       'OD', 'Proline']].values  # Lấy các cột feature1, feature2, ... làm đặc trưng\n",
        "y = df['Wine'].values  # Lấy cột label làm nhãn\n",
        "X.shape, y.shape, type(X), type(y)"
      ],
      "metadata": {
        "id": "WhsvkhVUIlL5",
        "colab": {
          "base_uri": "https://localhost:8080/"
        },
        "outputId": "3c1dfc8e-59b6-45be-ffcb-977f1b04dead"
      },
      "execution_count": null,
      "outputs": [
        {
          "output_type": "execute_result",
          "data": {
            "text/plain": [
              "((178, 13), (178,), numpy.ndarray, numpy.ndarray)"
            ]
          },
          "metadata": {},
          "execution_count": 12
        }
      ]
    },
    {
      "cell_type": "markdown",
      "source": [
        "###Xác định các đặc trưng quan trọng nhất"
      ],
      "metadata": {
        "id": "zEcfr134yAxT"
      }
    },
    {
      "cell_type": "code",
      "source": [
        "from sklearn.ensemble import RandomForestClassifier\n",
        "\n",
        "# Tạo mô hình Random Forest\n",
        "rf = RandomForestClassifier(n_estimators=100, random_state=42)\n",
        "\n",
        "# Huấn luyện mô hình với dữ liệu\n",
        "rf.fit(X, y)\n",
        "\n",
        "# Lấy độ quan trọng của các đặc trưng\n",
        "importances = rf.feature_importances_\n",
        "\n",
        "# Xác định các đặc trưng quan trọng nhất\n",
        "important_features = []\n",
        "for i in range(len(importances)):\n",
        "    if importances[i] > 0.05:\n",
        "        important_features.append(df.columns[i])\n",
        "\n",
        "important_features"
      ],
      "metadata": {
        "colab": {
          "base_uri": "https://localhost:8080/"
        },
        "id": "XXy3gQIK3wXX",
        "outputId": "39676887-d15c-4f17-b238-e0bcb2dee9af"
      },
      "execution_count": null,
      "outputs": [
        {
          "output_type": "execute_result",
          "data": {
            "text/plain": [
              "['Alcohol',\n",
              " 'Malic.acid',\n",
              " 'Ash',\n",
              " 'Acl',\n",
              " 'Mg',\n",
              " 'Flavanoids',\n",
              " 'Nonflavanoid.phenols']"
            ]
          },
          "metadata": {},
          "execution_count": 13
        }
      ]
    },
    {
      "cell_type": "markdown",
      "source": [
        "###Chuẩn hóa dữ liệu"
      ],
      "metadata": {
        "id": "9ut9AuHQSCQB"
      }
    },
    {
      "cell_type": "code",
      "source": [
        "# Chuẩn hóa dữ liệu || Quy đổi dữ liệu scale (link tham khảo https://www.ihoclaptrinh.com/thuan-toan-machine-learning-standardscaler)\n",
        "scaler = StandardScaler()\n",
        "X_scaled = scaler.fit_transform(X)\n",
        "X_scaled"
      ],
      "metadata": {
        "id": "WVCHJOE1RpXr",
        "colab": {
          "base_uri": "https://localhost:8080/"
        },
        "outputId": "851bea04-ae95-4b32-8ad0-5c08346d4bb3"
      },
      "execution_count": null,
      "outputs": [
        {
          "output_type": "execute_result",
          "data": {
            "text/plain": [
              "array([[ 1.51861254, -0.5622498 ,  0.23205254, ...,  0.36217728,\n",
              "         1.84791957,  1.01300893],\n",
              "       [ 0.24628963, -0.49941338, -0.82799632, ...,  0.40605066,\n",
              "         1.1134493 ,  0.96524152],\n",
              "       [ 0.19687903,  0.02123125,  1.10933436, ...,  0.31830389,\n",
              "         0.78858745,  1.39514818],\n",
              "       ...,\n",
              "       [ 0.33275817,  1.74474449, -0.38935541, ..., -1.61212515,\n",
              "        -1.48544548,  0.28057537],\n",
              "       [ 0.20923168,  0.22769377,  0.01273209, ..., -1.56825176,\n",
              "        -1.40069891,  0.29649784],\n",
              "       [ 1.39508604,  1.58316512,  1.36520822, ..., -1.52437837,\n",
              "        -1.42894777, -0.59516041]])"
            ]
          },
          "metadata": {},
          "execution_count": 14
        }
      ]
    },
    {
      "cell_type": "markdown",
      "source": [
        "##4. XÂY DỰNG VÀ ĐÁNH GIÁ ĐỘ CHÍNH CỦA MÔ HÌNH KHI ÁP DỤNG PCA"
      ],
      "metadata": {
        "id": "IljtfX6MKTk3"
      }
    },
    {
      "cell_type": "markdown",
      "source": [
        "###Mô hình KNN khi chưa sử dụng PCA"
      ],
      "metadata": {
        "id": "mRyb3ePpPMcx"
      }
    },
    {
      "cell_type": "code",
      "source": [
        "# Chia dữ liệu thành tập train và test\n",
        "X_train, X_test, y_train, y_test = train_test_split(X_scaled, y, test_size=0.3, random_state=32)\n",
        "\n",
        "# Áp dụng mô hình KNN để phân loại\n",
        "knn = KNeighborsClassifier(n_neighbors=3) #metric = meanskowski\n",
        "knn.fit(X_train, y_train)\n",
        "\n",
        "from sklearn.metrics import accuracy_score, precision_score, recall_score, f1_score\n",
        "\n",
        "# # Dữ liệu dự đoán\n",
        "y_pred = knn.predict(X_test)\n",
        "# Tính toán F1-score\n",
        "\n",
        "# Đánh giá kết quả dự đoán\n",
        "accuracy = accuracy_score(y_test, y_pred)\n",
        "precision = precision_score(y_test, y_pred, average='weighted')\n",
        "recall = recall_score(y_test, y_pred, average='weighted')\n",
        "f1 = f1_score(y_test, y_pred, average='weighted')\n",
        "\n",
        "print(\"Accuracy:\", accuracy)\n",
        "print(\"Precision:\", precision)\n",
        "print(\"Recall:\", recall)\n",
        "print(\"F1-score:\", f1)"
      ],
      "metadata": {
        "colab": {
          "base_uri": "https://localhost:8080/"
        },
        "id": "bUP2xZ9k6X-3",
        "outputId": "aa37e39a-697d-46f5-8853-6eadf0a9fdba"
      },
      "execution_count": null,
      "outputs": [
        {
          "output_type": "stream",
          "name": "stdout",
          "text": [
            "Accuracy: 0.9629629629629629\n",
            "Precision: 0.9648574405607654\n",
            "Recall: 0.9629629629629629\n",
            "F1-score: 0.9622147399925177\n"
          ]
        }
      ]
    },
    {
      "cell_type": "markdown",
      "source": [
        "###Mô hình KNN khi áp dụng PCA"
      ],
      "metadata": {
        "id": "U8Ejss8DQLER"
      }
    },
    {
      "cell_type": "markdown",
      "source": [
        "####ÁP DỤNG THUẬT TOÁN PCA"
      ],
      "metadata": {
        "id": "A2oSNBaEKfTp"
      }
    },
    {
      "cell_type": "code",
      "source": [
        "# Áp dụng PCA để giảm số chiều dữ liệu: (link tham khảo https://miai.vn/2021/04/22/principal-component-analysis-pca-tuyet-chieu-giam-chieu-du-lieu/)\n",
        "pca = PCA(n_components=5)\n",
        "X_pca = pca.fit_transform(X_scaled)\n",
        "X_pca"
      ],
      "metadata": {
        "id": "KglL5zQiJy0f",
        "colab": {
          "base_uri": "https://localhost:8080/"
        },
        "outputId": "ad911842-ea11-4078-b89d-fda03467f22f"
      },
      "execution_count": null,
      "outputs": [
        {
          "output_type": "execute_result",
          "data": {
            "text/plain": [
              "array([[ 3.31675081e+00, -1.44346263e+00, -1.65739045e-01,\n",
              "        -2.15631188e-01,  6.93042841e-01],\n",
              "       [ 2.20946492e+00,  3.33392887e-01, -2.02645737e+00,\n",
              "        -2.91358318e-01, -2.57654635e-01],\n",
              "       [ 2.51674015e+00, -1.03115130e+00,  9.82818670e-01,\n",
              "         7.24902309e-01, -2.51033118e-01],\n",
              "       [ 3.75706561e+00, -2.75637191e+00, -1.76191842e-01,\n",
              "         5.67983308e-01, -3.11841591e-01],\n",
              "       [ 1.00890849e+00, -8.69830821e-01,  2.02668822e+00,\n",
              "        -4.09765788e-01,  2.98457503e-01],\n",
              "       [ 3.05025392e+00, -2.12240111e+00, -6.29395827e-01,\n",
              "        -5.15637495e-01, -6.32018734e-01],\n",
              "       [ 2.44908967e+00, -1.17485013e+00, -9.77094891e-01,\n",
              "        -6.58305046e-02, -1.02776191e+00],\n",
              "       [ 2.05943687e+00, -1.60896307e+00,  1.46281883e-01,\n",
              "        -1.19260801e+00,  7.69034938e-02],\n",
              "       [ 2.51087430e+00, -9.18070957e-01, -1.77096903e+00,\n",
              "         5.62703612e-02, -8.92256977e-01],\n",
              "       [ 2.75362819e+00, -7.89437674e-01, -9.84247490e-01,\n",
              "         3.49381568e-01, -4.68553076e-01],\n",
              "       [ 3.47973668e+00, -1.30233324e+00, -4.22735217e-01,\n",
              "         2.68417600e-02, -3.38374778e-01],\n",
              "       [ 1.75475290e+00, -6.11977229e-01, -1.19087832e+00,\n",
              "        -8.90164338e-01, -7.38572659e-01],\n",
              "       [ 2.11346234e+00, -6.75706339e-01, -8.65086426e-01,\n",
              "        -3.56438010e-01, -1.20992872e+00],\n",
              "       [ 3.45815682e+00, -1.13062988e+00, -1.20427635e+00,\n",
              "         1.62458063e-01, -2.02312681e+00],\n",
              "       [ 4.31278391e+00, -2.09597558e+00, -1.26391275e+00,\n",
              "         3.05773190e-01, -1.02969261e+00],\n",
              "       [ 2.30518820e+00, -1.66255173e+00,  2.17902616e-01,\n",
              "        -1.44059003e+00, -4.69550104e-01],\n",
              "       [ 2.17195527e+00, -2.32730534e+00,  8.31729866e-01,\n",
              "        -9.12601275e-01, -1.14940414e-04],\n",
              "       [ 1.89897118e+00, -1.63136888e+00,  7.94913792e-01,\n",
              "        -1.08238039e+00, -4.38705214e-01],\n",
              "       [ 3.54198508e+00, -2.51834367e+00, -4.85458508e-01,\n",
              "        -9.10322807e-01, -1.15307934e+00],\n",
              "       [ 2.08452220e+00, -1.06113799e+00, -1.64746678e-01,\n",
              "         4.84997419e-01,  8.82511354e-01],\n",
              "       [ 3.12440254e+00, -7.86897106e-01, -3.64887083e-01,\n",
              "        -2.55616906e-02,  9.72413602e-01],\n",
              "       [ 1.08657007e+00, -2.41743551e-01,  9.36961600e-01,\n",
              "         1.02990984e+00,  3.15971695e-01],\n",
              "       [ 2.53522408e+00,  9.18406207e-02, -3.11932659e-01,\n",
              "        -4.83912355e-02, -4.29581558e-01],\n",
              "       [ 1.64498834e+00,  5.16278930e-01,  1.43885095e-01,\n",
              "        -4.13720024e-01, -3.75719965e-01],\n",
              "       [ 1.76157587e+00,  3.17148933e-01,  8.90285647e-01,\n",
              "        -1.15115611e-01, -5.56668422e-01],\n",
              "       [ 9.90079102e-01, -9.40667338e-01,  3.82090801e+00,\n",
              "        -1.32156120e+00,  1.59004709e-01],\n",
              "       [ 1.77527763e+00, -6.86175134e-01, -8.67004065e-02,\n",
              "        -2.32906780e-01, -1.14294269e+00],\n",
              "       [ 1.23542396e+00,  8.98070414e-02, -1.38689654e+00,\n",
              "        -4.95682720e-01, -3.75941399e-01],\n",
              "       [ 2.18840633e+00, -6.89569621e-01,  1.39456688e+00,\n",
              "        -7.77491811e-01, -8.10584069e-01],\n",
              "       [ 2.25610898e+00, -1.91461937e-01, -1.09265726e+00,\n",
              "         2.86152299e-01, -4.83073257e-01],\n",
              "       [ 2.50022003e+00, -1.24083383e+00,  1.38601785e+00,\n",
              "        -3.66865220e-01, -6.22332864e-01],\n",
              "       [ 2.67741105e+00, -1.47187365e+00, -3.32261728e-01,\n",
              "        -3.49353875e-01, -8.65943288e-02],\n",
              "       [ 1.62857912e+00, -5.27044506e-02, -1.67128706e-01,\n",
              "        -7.49314246e-01, -6.36062749e-01],\n",
              "       [ 1.90269086e+00, -1.63306043e+00,  1.17208212e+00,\n",
              "        -2.34042904e+00, -1.86814052e-01],\n",
              "       [ 1.41038853e+00, -6.97934325e-01,  4.79743025e-01,\n",
              "        -1.06008622e+00,  9.91607444e-02],\n",
              "       [ 1.90382623e+00, -1.76710951e-01,  4.50835040e-01,\n",
              "         2.84113552e-01, -1.62949445e-01],\n",
              "       [ 1.38486223e+00, -6.58639854e-01,  4.58438581e-01,\n",
              "        -1.28465815e+00, -2.05011590e-01],\n",
              "       [ 1.12220741e+00, -1.14109760e-01, -3.91072767e-02,\n",
              "        -9.56401223e-01, -3.42211235e-01],\n",
              "       [ 1.50219450e+00,  7.69432006e-01, -1.42617735e+00,\n",
              "        -7.57508093e-01, -1.65844135e-01],\n",
              "       [ 2.52980109e+00, -1.80300198e+00, -3.43152389e-01,\n",
              "         1.18697430e+00,  1.29789571e+00],\n",
              "       [ 2.58809543e+00, -7.79616304e-01, -1.18477466e-01,\n",
              "         4.75971440e-01,  4.03322016e-01],\n",
              "       [ 6.68481994e-01, -1.69960941e-01, -7.83362548e-01,\n",
              "         1.31308378e+00, -3.71763418e-01],\n",
              "       [ 3.07080699e+00, -1.15591896e+00, -3.12758084e-01,\n",
              "         5.50284635e-01, -3.04125653e-01],\n",
              "       [ 4.62209138e-01, -3.30742132e-01, -2.01476496e-01,\n",
              "         1.43649386e+00,  2.83224877e-01],\n",
              "       [ 2.10135193e+00,  7.10089210e-02, -6.55849415e-01,\n",
              "         7.57744839e-01,  4.71537726e-01],\n",
              "       [ 1.13616618e+00, -1.77710739e+00,  2.87057358e-02,\n",
              "         6.91831212e-01, -6.09242058e-02],\n",
              "       [ 2.72660096e+00, -1.19133469e+00, -5.39773261e-01,\n",
              "         1.38955067e+00, -4.96894588e-01],\n",
              "       [ 2.82133927e+00, -6.46258599e-01, -1.15555241e+00,\n",
              "         9.87662912e-01, -9.97701769e-03],\n",
              "       [ 2.00985085e+00, -1.24702946e+00, -5.72939879e-02,\n",
              "         2.30643107e-01, -3.84651070e-01],\n",
              "       [ 2.70749130e+00, -1.75196741e+00, -6.43113612e-01,\n",
              "        -1.00231520e-01, -4.94713032e-01],\n",
              "       [ 3.21491747e+00, -1.66991995e-01, -1.97357168e+00,\n",
              "         1.12068394e+00,  1.22781973e-02],\n",
              "       [ 2.85895983e+00, -7.45278804e-01,  4.71950216e-03,\n",
              "        -2.15276557e-01, -7.58808494e-01],\n",
              "       [ 3.50560436e+00, -1.61273386e+00, -5.20774530e-01,\n",
              "         1.06536424e-01, -6.01684444e-01],\n",
              "       [ 2.22479138e+00, -1.87516800e+00,  3.39549850e-01,\n",
              "        -1.20696658e+00, -5.76644249e-01],\n",
              "       [ 2.14698782e+00, -1.01675154e+00, -9.57762762e-01,\n",
              "        -2.40318190e-01,  8.80104504e-01],\n",
              "       [ 2.46932948e+00, -1.32900831e+00,  5.13437453e-01,\n",
              "         2.55348621e-01,  9.12140102e-01],\n",
              "       [ 2.74151791e+00, -1.43654878e+00, -6.12473396e-01,\n",
              "         2.05747441e-01,  4.34263863e-01],\n",
              "       [ 2.17374092e+00, -1.21219984e+00,  2.61779593e-01,\n",
              "        -5.04426086e-01, -6.95421813e-01],\n",
              "       [ 3.13938015e+00, -1.73157912e+00, -2.85661413e-01,\n",
              "         2.30567212e-01,  7.50408361e-02],\n",
              "       [-9.28581969e-01,  3.07348616e+00, -4.58506401e+00,\n",
              "        -1.05184439e+00,  4.57124124e-01],\n",
              "       [-1.54248014e+00,  1.38144351e+00, -8.74683112e-01,\n",
              "        -2.89011975e+00, -9.78008325e-01],\n",
              "       [-1.83624976e+00,  8.29984123e-01, -1.60570219e+00,\n",
              "        -1.45210485e+00, -2.94075797e-01],\n",
              "       [ 3.06068341e-02,  1.26278614e+00, -1.78440801e+00,\n",
              "        -1.20657607e+00, -3.93604322e-01],\n",
              "       [ 2.05026161e+00,  1.92503260e+00, -7.36877735e-03,\n",
              "         7.21321903e-01, -8.11266485e-02],\n",
              "       [-6.09680827e-01,  1.90805881e+00,  6.79357938e-01,\n",
              "        -2.15307609e+00, -4.99025512e-02],\n",
              "       [ 9.00227839e-01,  7.63911474e-01,  5.73361302e-01,\n",
              "        -6.79361634e-01, -1.42633049e-01],\n",
              "       [ 2.24850719e+00,  1.88459248e+00, -2.03184019e+00,\n",
              "         1.40762723e+00, -7.32006956e-01],\n",
              "       [ 1.83384027e-01,  2.42714611e+00, -1.06974556e+00,\n",
              "         1.27417972e-01, -5.34573559e-01],\n",
              "       [-8.12805027e-01,  2.20513987e-01, -7.07005396e-01,\n",
              "        -2.48898958e+00, -5.83559831e-01],\n",
              "       [ 1.97562050e+00,  1.40328323e+00, -1.23827622e+00,\n",
              "        -1.15230649e+00,  4.18665674e+00],\n",
              "       [-1.57221622e+00,  8.84983137e-01, -6.28997950e-01,\n",
              "        -1.17184641e+00,  9.65344570e-01],\n",
              "       [ 1.65768181e+00,  9.56712197e-01,  1.95258422e+00,\n",
              "         1.52208912e-01, -7.87161183e-01],\n",
              "       [-7.25372388e-01,  1.06364540e+00,  8.03322286e-02,\n",
              "        -7.60194312e-02, -1.80165770e-01],\n",
              "       [ 2.56222717e+00, -2.60198551e-01,  3.37439396e+00,\n",
              "        -9.79399432e-01,  1.98079860e+00],\n",
              "       [ 1.83256757e+00,  1.28787820e+00,  4.58280027e-01,\n",
              "         1.71350754e-01,  1.00122223e+00],\n",
              "       [-8.67992903e-01,  2.44410119e+00, -1.56333318e+00,\n",
              "        -8.31459859e-01,  7.07979981e-01],\n",
              "       [ 3.70014404e-01,  2.15390698e+00, -2.44938635e+00,\n",
              "        -1.26159044e-01,  9.52998423e-02],\n",
              "       [-1.45737704e+00,  1.38335177e+00, -2.27306902e-01,\n",
              "        -6.96356870e-01,  1.06736218e+00],\n",
              "       [ 1.26293085e+00,  7.70849530e-01, -1.18422452e+00,\n",
              "        -9.25882244e-01,  2.61359304e+00],\n",
              "       [ 3.76150372e-01,  1.02704340e+00,  1.79446629e+00,\n",
              "         9.78544527e-01, -1.36569188e-01],\n",
              "       [ 7.62063904e-01,  3.37505381e+00, -3.57470056e-01,\n",
              "        -3.66732915e-01, -1.54440573e-01],\n",
              "       [ 1.03457797e+00,  1.45070974e+00, -3.63011773e-01,\n",
              "         2.96595780e-01, -3.05887237e-01],\n",
              "       [-4.94876756e-01,  2.38124353e+00,  1.33574318e+00,\n",
              "        -1.04097884e+00, -1.04212663e+00],\n",
              "       [-2.53897708e+00,  8.74433573e-02,  4.74251393e-01,\n",
              "         7.58601454e-01, -1.12781648e+00],\n",
              "       [ 8.35320145e-01,  1.47367055e+00,  6.10093576e-01,\n",
              "         5.82951878e-01,  8.99184784e-01],\n",
              "       [ 7.87904615e-01,  2.02662652e+00, -2.54723404e-01,\n",
              "        -8.09418080e-01,  2.58852542e-01],\n",
              "       [-8.06832156e-01,  2.23383039e+00,  7.72855797e-01,\n",
              "        -1.01371575e+00, -2.91862299e-01],\n",
              "       [-5.58042625e-01,  2.37298543e+00,  2.30761140e+00,\n",
              "        -1.03532031e+00, -4.76939508e-01],\n",
              "       [-1.11511104e+00,  1.80224719e+00,  9.59253308e-01,\n",
              "        -3.31283791e-01, -7.31510062e-01],\n",
              "       [-5.55722830e-01,  2.65754004e+00,  8.49126898e-01,\n",
              "        -3.19764133e-03, -1.34625700e+00],\n",
              "       [-1.34928528e+00,  2.11800147e+00, -4.76523208e-02,\n",
              "        -4.66250567e-01, -8.90545973e-01],\n",
              "       [-1.56448261e+00,  1.85221452e+00,  7.81067031e-01,\n",
              "        -6.05079391e-01, -5.16465365e-01],\n",
              "       [-1.93255561e+00,  1.55949546e+00, -8.92746761e-02,\n",
              "        -5.22569357e-01, -1.17369757e+00],\n",
              "       [ 7.46665942e-01,  2.31293171e+00,  1.14679769e-01,\n",
              "         1.24853870e+00,  2.62936875e-01],\n",
              "       [ 9.57455364e-01,  2.22352843e+00,  1.42444774e-01,\n",
              "         3.14042947e-01,  9.44142712e-01],\n",
              "       [ 2.54386518e+00, -1.69274023e-01,  7.88696991e-01,\n",
              "        -1.03283704e+00,  3.73107921e+00],\n",
              "       [-5.43952589e-01,  3.68926546e-01,  1.30889593e+00,\n",
              "        -1.27799856e+00,  3.34679072e+00],\n",
              "       [ 1.03104975e+00,  2.56556935e+00, -1.08639017e+00,\n",
              "         2.63860985e-01, -1.89844015e-01],\n",
              "       [ 2.25190942e+00,  1.43274138e+00, -2.30208244e-01,\n",
              "         9.21171097e-01, -2.39922932e-01],\n",
              "       [ 1.41021602e+00,  2.16619177e+00,  7.48896411e-01,\n",
              "         1.19561119e+00, -7.09857212e-01],\n",
              "       [ 7.97719793e-01,  2.37694880e+00, -1.56811253e+00,\n",
              "        -3.48163602e-02,  6.17091397e-01],\n",
              "       [-5.49531727e-01,  2.29312864e+00, -1.49893532e+00,\n",
              "        -3.07038671e-01,  3.26010934e-01],\n",
              "       [-1.61173740e-01,  1.16448332e+00,  1.00371310e+00,\n",
              "         6.61686224e-01,  3.01185142e-01],\n",
              "       [-6.59794942e-01,  2.67996119e+00, -7.64920868e-01,\n",
              "         4.69954774e-01,  1.44470385e-01],\n",
              "       [ 3.92354408e-01,  2.09873171e+00, -4.71850008e-01,\n",
              "         4.37056575e-01, -3.03810455e-01],\n",
              "       [-1.77249908e+00,  1.71728847e+00,  9.47033174e-01,\n",
              "         2.59512586e-01, -1.00482549e+00],\n",
              "       [-3.66267357e-01,  2.16935330e+00, -4.81324235e-01,\n",
              "         3.98400462e-01, -4.69051314e-01],\n",
              "       [-1.62067257e+00,  1.35558339e+00,  2.87159001e-01,\n",
              "        -2.60245460e-02, -5.69352548e-01],\n",
              "       [ 8.25357835e-02,  2.30623459e+00, -4.63574989e-01,\n",
              "         8.90351023e-01,  3.40576552e-01],\n",
              "       [ 1.57827507e+00,  1.46203429e+00,  1.77964595e+00,\n",
              "         6.13584424e-01,  2.87981736e-01],\n",
              "       [ 1.42056925e+00,  1.41820664e+00,  1.39275829e-01,\n",
              "         3.43053946e+00,  2.19688434e+00],\n",
              "       [-2.78702754e-01,  1.93056809e+00,  7.86705530e-02,\n",
              "         9.28520741e-01,  2.61495778e-01],\n",
              "       [-1.30314497e+00,  7.63172314e-01,  1.99959651e+00,\n",
              "        -1.72583588e+00, -7.34906273e-01],\n",
              "       [-4.57071866e-01,  2.26941561e+00,  1.06133897e+00,\n",
              "        -8.37432054e-01, -3.23450841e-01],\n",
              "       [-4.94185847e-01,  1.93904505e+00,  1.32393807e+00,\n",
              "        -6.15972483e-02, -8.48907529e-01],\n",
              "       [ 4.82074410e-01,  3.87178385e+00,  1.34427122e+00,\n",
              "        -8.99910492e-01, -9.32357726e-01],\n",
              "       [-2.52888878e-01,  2.82149237e+00, -3.02639785e-01,\n",
              "         4.57967101e-01,  3.71087250e-01],\n",
              "       [-1.07227638e-01,  1.92892204e+00,  6.90148243e-01,\n",
              "        -2.73722484e-01,  1.07109693e+00],\n",
              "       [-2.43301260e+00,  1.25714104e+00, -1.90302740e+00,\n",
              "         8.69731905e-01, -4.68142634e-01],\n",
              "       [-5.51089539e-01,  2.22216155e+00, -3.56228830e-01,\n",
              "         1.36331989e+00,  2.16715598e-01],\n",
              "       [ 7.39621929e-01,  1.40895667e+00,  1.12534549e+00,\n",
              "         1.20511147e+00,  4.29921233e-01],\n",
              "       [ 1.33632173e+00, -2.53336931e-01,  5.34538818e+00,\n",
              "         2.39037513e-01,  2.36502548e-01],\n",
              "       [-1.17708700e+00,  6.63966840e-01,  3.01022189e+00,\n",
              "         1.16613696e+00,  3.32728686e-01],\n",
              "       [-4.62335008e-01,  6.18288179e-01,  4.83442366e-01,\n",
              "         3.57672436e+00,  1.28821448e-01],\n",
              "       [ 9.78474079e-01,  1.44557050e+00,  1.48123697e+00,\n",
              "         3.79033509e+00,  4.99810258e-01],\n",
              "       [-9.68097263e-02,  2.10999799e+00,  4.34826116e-01,\n",
              "         1.05469528e+00, -3.11444426e-01],\n",
              "       [ 3.84871459e-02,  1.26676211e+00,  6.87577913e-01,\n",
              "         1.27288418e+00, -3.53052180e-01],\n",
              "       [-1.59715850e+00,  1.20814357e+00,  3.36117556e+00,\n",
              "        -2.19277553e-01, -6.40763433e-01],\n",
              "       [-4.79564916e-01,  1.93884066e+00,  1.29650752e+00,\n",
              "         6.86976225e-01, -6.04852194e-02],\n",
              "       [-1.79283347e+00,  1.15028810e+00,  7.82800173e-01,\n",
              "         1.47877897e+00, -5.04217973e-01],\n",
              "       [-1.32710166e+00, -1.70389232e-01, -1.18001336e+00,\n",
              "        -1.50170981e+00,  2.30529033e+00],\n",
              "       [-2.38450083e+00, -3.74582606e-01, -7.23822595e-01,\n",
              "        -3.08194983e-01,  1.33963198e+00],\n",
              "       [-2.93694010e+00, -2.63861830e-01, -1.67639816e-01,\n",
              "        -4.08773422e-01,  1.08780606e+00],\n",
              "       [-2.14681113e+00, -3.68254952e-01, -4.53301301e-01,\n",
              "         4.85275651e-02,  1.72663205e+00],\n",
              "       [-2.36986949e+00,  4.59634809e-01, -1.10139979e+00,\n",
              "        -8.56777335e-01, -1.06700654e+00],\n",
              "       [-3.06384157e+00, -3.53412835e-01, -1.09912410e+00,\n",
              "        -7.40398132e-01, -7.37708034e-01],\n",
              "       [-3.91575378e+00, -1.54582519e-01,  2.21827800e-01,\n",
              "        -9.06832745e-03, -3.62728736e-01],\n",
              "       [-3.93646339e+00, -6.59687233e-01,  1.71221542e+00,\n",
              "         5.45483801e-01, -5.37324815e-01],\n",
              "       [-3.09427612e+00, -3.48842759e-01, -1.02683141e+00,\n",
              "        -7.13492080e-02, -1.05934986e+00],\n",
              "       [-2.37447163e+00, -2.91980352e-01,  1.24191433e+00,\n",
              "        -7.48805540e-01, -4.15579113e-01],\n",
              "       [-2.77881295e+00, -2.86804873e-01,  6.09670124e-01,\n",
              "        -8.79346886e-01, -5.54423936e-01],\n",
              "       [-2.28656128e+00, -3.72507845e-01, -9.71643032e-01,\n",
              "        -3.71437736e-01, -3.38092368e-01],\n",
              "       [-2.98563349e+00, -4.89217908e-01,  9.46952932e-01,\n",
              "        -1.03622559e+00, -5.85146743e-01],\n",
              "       [-2.37519470e+00, -4.82333717e-01, -2.52883994e-01,\n",
              "         6.71149264e-01, -6.28091905e-01],\n",
              "       [-2.20986553e+00, -1.16005250e+00, -1.24512523e+00,\n",
              "         3.18838188e-01,  1.68869340e+00],\n",
              "       [-2.62562100e+00, -5.63160764e-01, -8.55961082e-01,\n",
              "         2.75684026e-01,  6.51112208e-01],\n",
              "       [-4.28063878e+00, -6.49670964e-01, -1.45819696e+00,\n",
              "         1.12816430e+00, -3.59554250e-01],\n",
              "       [-3.58264137e+00, -1.27270275e+00, -1.10784038e-01,\n",
              "         1.04990904e+00, -5.23551900e-01],\n",
              "       [-2.80706372e+00, -1.57053379e+00, -4.72527935e-01,\n",
              "         6.27358450e-01, -2.60172997e-01],\n",
              "       [-2.89965933e+00, -2.04105701e+00, -4.95959810e-01,\n",
              "         4.71155615e-01,  1.43887721e+00],\n",
              "       [-2.32073698e+00, -2.35636608e+00,  4.37681744e-01,\n",
              "        -5.22597755e-02,  2.23442719e+00],\n",
              "       [-2.54983095e+00, -2.04528309e+00, -3.12267999e-01,\n",
              "         3.86971682e-01,  1.84752262e+00],\n",
              "       [-1.81254128e+00, -1.52764595e+00,  1.36258978e+00,\n",
              "        -1.89395906e-01,  1.74938720e+00],\n",
              "       [-2.76014464e+00, -2.13893235e+00, -9.64628688e-01,\n",
              "         6.68386112e-01, -4.77041693e-01],\n",
              "       [-2.73715050e+00, -4.09886271e-01, -1.19040468e+00,\n",
              "        -6.63045204e-01,  4.59036777e-01],\n",
              "       [-3.60486887e+00, -1.80238422e+00, -9.40368613e-02,\n",
              "         1.26884047e+00, -6.09465332e-01],\n",
              "       [-2.88982600e+00, -1.92521861e+00, -7.82322556e-01,\n",
              "         1.32472540e+00, -5.71242955e-01],\n",
              "       [-3.39215608e+00, -1.31187639e+00,  1.60202597e+00,\n",
              "        -4.82842144e-01, -6.70871384e-01],\n",
              "       [-1.04818190e+00, -3.51508969e+00,  1.16003857e+00,\n",
              "         9.35329394e-01, -8.99448535e-01],\n",
              "       [-1.60991228e+00, -2.40663816e+00,  5.48559697e-01,\n",
              "         7.54309684e-01, -9.95206846e-01],\n",
              "       [-3.14313097e+00, -7.38161044e-01, -9.09987239e-02,\n",
              "         9.80647845e-01, -4.09813519e-01],\n",
              "       [-2.24015690e+00, -1.17546529e+00, -1.01376932e-01,\n",
              "        -1.16527872e+00, -2.64449292e-01],\n",
              "       [-2.84767378e+00, -5.56043966e-01,  8.04215218e-01,\n",
              "        -8.97888066e-01, -2.54801317e-01],\n",
              "       [-2.59749706e+00, -6.97965537e-01, -8.84939521e-01,\n",
              "        -2.74228748e-01,  7.72235497e-01],\n",
              "       [-2.94929937e+00, -1.55530896e+00, -9.83400727e-01,\n",
              "         1.54803469e-02, -3.64082110e-01],\n",
              "       [-3.53003227e+00, -8.82526796e-01, -4.66029128e-01,\n",
              "         5.80789625e-01, -6.68959720e-01],\n",
              "       [-2.40611054e+00, -2.59235618e+00,  4.28226211e-01,\n",
              "        -1.84335092e-01,  4.47661124e-01],\n",
              "       [-2.92908473e+00, -1.27444695e+00, -1.21335827e+00,\n",
              "         2.95316047e-01, -2.67349928e-01],\n",
              "       [-2.18141278e+00, -2.07753731e+00,  7.63782552e-01,\n",
              "        -3.89593322e-01,  3.59873602e-01],\n",
              "       [-2.38092779e+00, -2.58866743e+00,  1.41804403e+00,\n",
              "         5.88501936e-01,  1.12799681e+00],\n",
              "       [-3.21161722e+00,  2.51249104e-01, -8.47129152e-01,\n",
              "        -2.17065355e-01,  6.09095215e-01],\n",
              "       [-3.67791872e+00, -8.47747844e-01, -1.33942023e+00,\n",
              "        -1.25175865e-01, -4.86111933e-01],\n",
              "       [-2.46555580e+00, -2.19379830e+00, -9.18780960e-01,\n",
              "         1.80249950e-02, -7.01209522e-01],\n",
              "       [-3.37052415e+00, -2.21628914e+00, -3.42569512e-01,\n",
              "         1.05852684e+00, -5.74163899e-01],\n",
              "       [-2.60195585e+00, -1.75722935e+00,  2.07581355e-01,\n",
              "         3.49496422e-01,  2.55063178e-01],\n",
              "       [-2.67783946e+00, -2.76089913e+00, -9.40941877e-01,\n",
              "         3.12034746e-01,  1.27135500e+00],\n",
              "       [-2.38701709e+00, -2.29734668e+00, -5.50696197e-01,\n",
              "        -6.88284548e-01,  8.13955219e-01],\n",
              "       [-3.20875816e+00, -2.76891957e+00,  1.01391366e+00,\n",
              "         5.96903186e-01, -8.95192588e-01]])"
            ]
          },
          "metadata": {},
          "execution_count": 16
        }
      ]
    },
    {
      "cell_type": "code",
      "source": [
        "# Chia dữ liệu thành tập train và test\n",
        "X_train, X_test, y_train, y_test = train_test_split(X_pca, y, test_size=0.3, random_state=32)\n",
        "\n",
        "# Áp dụng mô hình KNN để phân loại\n",
        "knn = KNeighborsClassifier(n_neighbors=3)\n",
        "knn.fit(X_train, y_train)\n",
        "\n",
        "from sklearn.metrics import accuracy_score, precision_score, recall_score, f1_score\n",
        "\n",
        "# # Dữ liệu dự đoán\n",
        "y_pred = knn.predict(X_test)\n",
        "# Tính toán F1-score\n",
        "\n",
        "# Đánh giá kết quả dự đoán\n",
        "accuracy = accuracy_score(y_test, y_pred)\n",
        "precision = precision_score(y_test, y_pred, average='weighted')\n",
        "recall = recall_score(y_test, y_pred, average='weighted')\n",
        "f1 = f1_score(y_test, y_pred, average='weighted')\n",
        "\n",
        "print(\"Accuracy:\", accuracy)\n",
        "print(\"Precision:\", precision)\n",
        "print(\"Recall:\", recall)\n",
        "print(\"F1-score:\", f1)"
      ],
      "metadata": {
        "colab": {
          "base_uri": "https://localhost:8080/"
        },
        "id": "LYgQZYFCP2SI",
        "outputId": "41dde4a3-dcb3-46d3-d0de-a13841128cd9"
      },
      "execution_count": null,
      "outputs": [
        {
          "output_type": "stream",
          "name": "stdout",
          "text": [
            "Accuracy: 0.9814814814814815\n",
            "Precision: 0.982570806100218\n",
            "Recall: 0.9814814814814815\n",
            "F1-score: 0.9814633793128417\n"
          ]
        }
      ]
    },
    {
      "cell_type": "markdown",
      "source": [
        "## Sử dụng các thang đo và tham số n láng giềng khác"
      ],
      "metadata": {
        "id": "k9joUmjIM1GW"
      }
    },
    {
      "cell_type": "code",
      "source": [
        "metrics_list = ['hamming', 'cosine', 'minkowski']\n",
        "for metric_p in metrics_list:\n",
        "    for i in range(3, 7):\n",
        "        knn = KNeighborsClassifier(n_neighbors= 3, metric= metric_p).fit(X_train, y_train)\n",
        "        print('with k = {}:'.format(i))\n",
        "        print('Accuracy of model:', metrics.accuracy_score(y_train, knn.predict(X_train)))\n",
        "        print('Test set Acc:', metrics.accuracy_score(y_test, knn.predict(X_test)))\n"
      ],
      "metadata": {
        "colab": {
          "base_uri": "https://localhost:8080/"
        },
        "id": "IPgypjzHM9gF",
        "outputId": "62797e8d-bddc-4b4a-d0a9-0b13bec2c787"
      },
      "execution_count": null,
      "outputs": [
        {
          "output_type": "stream",
          "name": "stdout",
          "text": [
            "with k = 3:\n",
            "Accuracy of model: 0.25806451612903225\n",
            "Test set Acc: 0.2962962962962963\n",
            "with k = 4:\n",
            "Accuracy of model: 0.25806451612903225\n",
            "Test set Acc: 0.2962962962962963\n",
            "with k = 5:\n",
            "Accuracy of model: 0.25806451612903225\n",
            "Test set Acc: 0.2962962962962963\n",
            "with k = 6:\n",
            "Accuracy of model: 0.25806451612903225\n",
            "Test set Acc: 0.2962962962962963\n",
            "with k = 3:\n",
            "Accuracy of model: 0.9758064516129032\n",
            "Test set Acc: 0.9629629629629629\n",
            "with k = 4:\n",
            "Accuracy of model: 0.9758064516129032\n",
            "Test set Acc: 0.9629629629629629\n",
            "with k = 5:\n",
            "Accuracy of model: 0.9758064516129032\n",
            "Test set Acc: 0.9629629629629629\n",
            "with k = 6:\n",
            "Accuracy of model: 0.9758064516129032\n",
            "Test set Acc: 0.9629629629629629\n",
            "with k = 3:\n",
            "Accuracy of model: 0.9758064516129032\n",
            "Test set Acc: 0.9814814814814815\n",
            "with k = 4:\n",
            "Accuracy of model: 0.9758064516129032\n",
            "Test set Acc: 0.9814814814814815\n",
            "with k = 5:\n",
            "Accuracy of model: 0.9758064516129032\n",
            "Test set Acc: 0.9814814814814815\n",
            "with k = 6:\n",
            "Accuracy of model: 0.9758064516129032\n",
            "Test set Acc: 0.9814814814814815\n"
          ]
        }
      ]
    },
    {
      "cell_type": "markdown",
      "source": [
        "##5. ĐÁNH GIÁ KHẢ NĂNG DỰ ĐOÁN CỦA MÔ HÌNH"
      ],
      "metadata": {
        "id": "jsYLndyFKQT9"
      }
    },
    {
      "cell_type": "markdown",
      "source": [
        "###SỬ DỤNG MÔ HÌNH PHÂN LOẠI 1 MẪU MỚI"
      ],
      "metadata": {
        "id": "0RWbd_avK_qV"
      }
    },
    {
      "cell_type": "code",
      "source": [
        "new_sample = np.array([[12.0, 1.5, 2.3, 21.0, 90.0, 2.0, 2.5, 0.3, 1.5, 7.5, 0.9, 2.5, 600.0]])\n",
        "# new_sample = np.array([[14.13,\t4.10,\t2.74,\t24.5,\t96,\t2.05,\t0.76,\t0.56,\t1.35,\t9.20,\t0.61,\t1.60,\t560]])\n",
        "# Chuẩn hóa dữ liệu cho mẫu mới: Sử dụng đối tượng StandardScaler đã được huấn luyện trước đó để chuẩn hóa dữ liệu cho mẫu mới\n",
        "new_sample_scaled = scaler.transform(new_sample)\n",
        "# Giảm số chiều dữ liệu: Sử dụng đối tượng PCA đã được huấn luyện trước đó để giảm số chiều dữ liệu cho mẫu mới.\n",
        "new_sample_pca = pca.transform(new_sample_scaled)\n",
        "# Dự đoán kết quả: Sử dụng phương thức predict của mô hình KNN đã được huấn luyện trước đó để dự đoán kết quả cho mẫu mới.\n",
        "new_sample_prediction = knn.predict(new_sample_pca)\n",
        "\n",
        "# In kết quả: In kết quả dự đoán ra màn hình\n",
        "print(\"Kết quả dự đoán cho mẫu mới:\", new_sample_prediction)"
      ],
      "metadata": {
        "id": "nJwlhL-L9wFY",
        "colab": {
          "base_uri": "https://localhost:8080/"
        },
        "outputId": "60784b06-071e-4e4c-fe18-9a0a2313e3b9"
      },
      "execution_count": null,
      "outputs": [
        {
          "output_type": "stream",
          "name": "stdout",
          "text": [
            "Kết quả dự đoán cho mẫu mới: [2]\n"
          ]
        }
      ]
    }
  ]
}